{
 "cells": [
  {
   "cell_type": "markdown",
   "metadata": {},
   "source": [
    "# August 2015 \n",
    "# Modified September 2016\n",
    "# Author: FBB\n",
    "\n",
    "# reproduce the result in http://www.mdrc.org/sites/default/files/What%20Strategies%20Work%20for%20the%20Hard%20FR.pdf \n"
   ]
  },
  {
   "cell_type": "code",
   "execution_count": 12,
   "metadata": {
    "collapsed": false
   },
   "outputs": [
    {
     "name": "stdout",
     "output_type": "stream",
     "text": [
      "Populating the interactive namespace from numpy and matplotlib\n"
     ]
    }
   ],
   "source": [
    "import os\n",
    "import sys\n",
    "import numpy as np\n",
    "import pylab as pl\n",
    "\n",
    "\n",
    "import json\n",
    "import os\n",
    "# s = json.load( open(os.getenv(\"PUI2015\")+\"/fbb_matplotlibrc.json\") )\n",
    "# pl.rcParams.update(s)\n",
    "\n",
    "%pylab inline\n",
    "\n",
    "# from IPython.display import Image\n",
    "# Image(filename='../plotsforclasses/NYCReentryprogram_title.png')\n",
    "\n"
   ]
  },
  {
   "cell_type": "code",
   "execution_count": 13,
   "metadata": {
    "collapsed": false
   },
   "outputs": [],
   "source": [
    "Image(filename='../plotsforclasses/NYCReentryprogram.png')"
   ]
  },
  {
   "cell_type": "markdown",
   "metadata": {},
   "source": [
    "# NULL HYPOTHESIS: the % of former prisoners employed after release is the same or lower for candidates who participated in the program as for the control group, significance level p=0.05"
   ]
  },
  {
   "cell_type": "markdown",
   "metadata": {},
   "source": [
    "# $H_0: P_0 - P_1 \\geq$    0\n",
    "    \n",
    "# $H_a: P_0 - P_1 $< 0    \n",
    "    \n",
    "    \n",
    "# $\\alpha$ = 0.05    \n",
    "\n",
    "## this is a TEST OF PROPORTIONS. we use the Binomial distribution since it is a yes/no (bernulli) test for each subject: the former inmate was or was not ever employed in a CEO transitional job (second row in the table above):\n",
    "# $P_0=0.035, P_1=0.701$"
   ]
  },
  {
   "cell_type": "code",
   "execution_count": 14,
   "metadata": {
    "collapsed": false
   },
   "outputs": [
    {
     "name": "stdout",
     "output_type": "stream",
     "text": [
      "we must assess the statistical significance\n"
     ]
    }
   ],
   "source": [
    "\n",
    "alpha=0.05\n",
    "# we like fractions better then percentages. as a rule of thumb, either use fractions or counts\n",
    "P_0 = 3.5*0.01 \n",
    "P_1 = 70.1*0.01\n",
    "\n",
    "if P_0-P_1 >= 0:\n",
    "    # we are done\n",
    "    print (\"the Null holds\")\n",
    "else:\n",
    "    print (\"we must assess the statistical significance\")\n",
    "\n",
    "n_0 = 409\n",
    "n_1 = 564\n",
    "\n",
    "#lets get the counts by multiplying by the sample size\n",
    "Nt_0 = P_0 * n_0\n",
    "Nt_1 = P_1 * n_1\n"
   ]
  },
  {
   "cell_type": "markdown",
   "metadata": {},
   "source": [
    "# 2 samples, categorical data\n",
    "# TWO OPTIONS z test, or chi-square test.  "
   ]
  },
  {
   "cell_type": "markdown",
   "metadata": {},
   "source": [
    "# START WITH Z TEST\n",
    "\n",
    "## the z test compares the stanrard deviation of the expected distribution and the observed result. it tells you literally how many standard deviations from the tail an observation is, under the _assumption of normality\n",
    "must define the sample standard deviation "
   ]
  },
  {
   "cell_type": "code",
   "execution_count": 15,
   "metadata": {
    "collapsed": false
   },
   "outputs": [
    {
     "name": "stdout",
     "output_type": "stream",
     "text": [
      "0.421047276465\n"
     ]
    }
   ],
   "source": [
    "#define the sample proportion first\n",
    "sp = (P_0 * n_0 + P_1 * n_1) / (n_1 + n_0)\n",
    "print (sp)"
   ]
  },
  {
   "cell_type": "markdown",
   "metadata": {},
   "source": [
    "# standard deviation of the sampling distribution the distribution is Binomial, the binomail stdev is \n",
    "\n",
    "(see a proof here!: http://stats.stackexchange.com/questions/29641/standard-error-for-the-mean-of-a-sample-of-binomial-random-variables!): \n",
    "\n",
    "$\\sqrt{\\frac{p(1 - p)}{n}}$\n",
    "\n",
    "for 2 samples this becomes \n",
    "\n",
    "$\\sqrt{ \\frac{ \\hat{p}(1 - \\hat{p})} {n1} + \\frac{ \\hat{p}(1 - \\hat{p})} {n1} }$\n",
    "\n",
    "cfr: page 138 of Statistics in a Nutshell, eq. 5.12 and here http://stattrek.com/hypothesis-test/difference-in-proportions.aspx?Tutorial=AP\n",
    "\n"
   ]
  },
  {
   "cell_type": "code",
   "execution_count": null,
   "metadata": {
    "collapsed": false
   },
   "outputs": [],
   "source": [
    "Image(\"../plotsforclasses/SiNS5.13.png\")"
   ]
  },
  {
   "cell_type": "markdown",
   "metadata": {},
   "source": [
    "Note that in the Image above, taken from the online version of the book, $\\bar{x}$  should be  $\\hat{p}$!!"
   ]
  },
  {
   "cell_type": "code",
   "execution_count": 16,
   "metadata": {
    "collapsed": false
   },
   "outputs": [
    {
     "name": "stdout",
     "output_type": "stream",
     "text": [
      "409.679\n",
      "(0.035, 409, 564, 0.03206580860573819)\n"
     ]
    }
   ],
   "source": [
    "# I am goonna create a little one line function to calculate the standard dev, \n",
    "# it is not really needed, but just to show you how you do such a thing\n",
    "sp_stdev = lambda p, n: np.sqrt( p * ( 1 - p ) / n[0] +  p * ( 1 - p ) / n[1]  )\n",
    "\n",
    "print (Nt_0 + Nt_1)\n",
    "\n",
    "sp_stdev_2y = sp_stdev(( Nt_0 + Nt_1) / (n_0 + n_1), [n_0, n_1])\n",
    "print (P_0, n_0, n_1, sp_stdev_2y)"
   ]
  },
  {
   "cell_type": "markdown",
   "metadata": {},
   "source": [
    "# z score: how many standard deviation away from the population parameter is my statistic?\n",
    "\n",
    "# $z=\\frac{P_1-P_0}{\\sigma}$"
   ]
  },
  {
   "cell_type": "code",
   "execution_count": 17,
   "metadata": {
    "collapsed": false
   },
   "outputs": [
    {
     "name": "stdout",
     "output_type": "stream",
     "text": [
      "20.7697865408\n"
     ]
    }
   ],
   "source": [
    "zscore = lambda p0, p1, s : (p0 - p1) / s\n",
    "z_2y = zscore(P_1, P_0, sp_stdev_2y)\n",
    "print (z_2y)\n"
   ]
  },
  {
   "cell_type": "markdown",
   "metadata": {},
   "source": [
    "note that using p0-p1 or p1-p0 at the numerator is equivalent because the standardizes normal value of z has mean 0 (see image below) so that we can use the absolute value of the z score, or equivalently look for $P[Z<z]$ if z is positive, and $P[Z>z]$ if z is negative."
   ]
  },
  {
   "cell_type": "code",
   "execution_count": null,
   "metadata": {
    "collapsed": false
   },
   "outputs": [],
   "source": [
    "Image('http://intersci.ss.uci.edu/wiki/images/3/3a/Normal01.jpg')"
   ]
  },
  {
   "cell_type": "markdown",
   "metadata": {},
   "source": [
    "## if $p<\\alpha$ : reject H0\n",
    "\n",
    "## IMPORTANT!! note that this P in the bottom line of the table is not the p-value, but \n",
    "## p-value = 1-P"
   ]
  },
  {
   "cell_type": "code",
   "execution_count": 18,
   "metadata": {
    "collapsed": false
   },
   "outputs": [
    {
     "name": "stdout",
     "output_type": "stream",
     "text": [
      "is the p value 0.00 smaller than the critical value 0.05? \n",
      "YES!\n",
      "the Null hypothesis is rejected\n"
     ]
    }
   ],
   "source": [
    "## p-value for employment after 2 years: \n",
    "## since the largest number we read off the table for alpha=0.05 is smaller then the value for our statistic \n",
    "## our p-value will be smaller then calculated using .9998\n",
    "## thus using 0.9998 is a **conservative** approach. \n",
    "\n",
    "p_2y = 1 - 0.9998\n",
    "\n",
    "\n",
    "def report_result(p,a):\n",
    "    print ('is the p value {0:.2f} smaller than the critical value {1:.2f}? '.format(p,a))\n",
    "    if p < a:\n",
    "        print (\"YES!\")\n",
    "    else: \n",
    "        print (\"NO!\")\n",
    "    \n",
    "    print ('the Null hypothesis is {}'.format( 'rejected' if p < a  else 'not rejected') )\n",
    "\n",
    "    \n",
    "report_result(p_2y,alpha)"
   ]
  },
  {
   "cell_type": "markdown",
   "metadata": {},
   "source": [
    "# !!!!!!!!TODO FOR YOU\n"
   ]
  },
  {
   "cell_type": "markdown",
   "metadata": {},
   "source": [
    "## what if we used the values for where the former inmate was or was not \"Convicted of a felony\" (row 10) in the Recidivism (Years 1-3)?\n",
    "\n",
    "# Null hypothesis?\n",
    "\n",
    "## The percent of former inmates in the control group convicted of a felony in years 1-3 is the same or lower than that for the program group.\n",
    "\n",
    "# $H_0: P_0 - P_1 \\leq$   0\n",
    "    \n",
    "# $H_a: P_0 - P_1 $ > 0  \n",
    "\n",
    "# $P_0 = ??, P_1= ??$"
   ]
  },
  {
   "cell_type": "markdown",
   "metadata": {},
   "source": [
    "# look up data table and insert the appropriate values to get the appropriate result! you can use the functions I defined above, with different arguments. "
   ]
  },
  {
   "cell_type": "code",
   "execution_count": 19,
   "metadata": {
    "collapsed": false
   },
   "outputs": [],
   "source": [
    "P_0 =11.7*0.01 \n",
    "P_1 = 10.0*0.01"
   ]
  },
  {
   "cell_type": "markdown",
   "metadata": {},
   "source": [
    "# $P_0 = 0.117, P_1 = 0.1$"
   ]
  },
  {
   "cell_type": "code",
   "execution_count": 20,
   "metadata": {
    "collapsed": false
   },
   "outputs": [
    {
     "name": "stdout",
     "output_type": "stream",
     "text": [
      "sample proportion:  0.107145940391\n",
      "sample proportion stdev:  0.0200878433685\n",
      "z-score:  -0.846282982605\n"
     ]
    }
   ],
   "source": [
    "sp = (P_0 * n_0 + P_1 * n_1) / (n_1 + n_0)\n",
    "print \"sample proportion: \", sp\n",
    "\n",
    "sp_stdev_3y = np.sqrt((sp * (1 - sp))/n_0 + (sp * (1 - sp))/n_1)\n",
    "print \"sample proportion stdev: \", sp_stdev_3y\n",
    "\n",
    "# sp_stdev = lambda p, n: np.sqrt( p * ( 1 - p ) / n[0] +  p * ( 1 - p ) / n[1]  )\n",
    "# sp_stdev_2y = sp_stdev((Nt_0 + Nt_1) / (n_0 + n_1), [n_0, n_1])\n",
    "# print (sp_stdev_2y)\n",
    "\n",
    "zscore = lambda p0, p1, s : (p0 - p1) / s\n",
    "z_3y = zscore(P_1, P_0, sp_stdev_3y)\n",
    "\n",
    "print \"z-score: \", z_3y"
   ]
  },
  {
   "cell_type": "code",
   "execution_count": 21,
   "metadata": {
    "collapsed": false
   },
   "outputs": [
    {
     "name": "stdout",
     "output_type": "stream",
     "text": [
      "is the p value 0.80 smaller than the critical value 0.05? \n",
      "NO!\n",
      "the Null hypothesis is not rejected\n"
     ]
    }
   ],
   "source": [
    "# using -0.85 as the z-score, the table gives us 0.1977 (1 - 0.8023)\n",
    "\n",
    "p_3y = 1 - 0.1977\n",
    "\n",
    "def report_result(p, a):\n",
    "    print ('is the p value {0:.2f} smaller than the critical value {1:.2f}? '.format(p, a))\n",
    "    if p < a:\n",
    "        print (\"YES!\")\n",
    "    else: \n",
    "        print (\"NO!\")\n",
    "    \n",
    "    print ('the Null hypothesis is {}'.format( 'rejected' if p < a  else 'not rejected') )\n",
    "  \n",
    "report_result(p_3y, alpha)"
   ]
  },
  {
   "cell_type": "markdown",
   "metadata": {},
   "source": [
    "# Now lets do it with the $\\chi^2$ test"
   ]
  },
  {
   "cell_type": "markdown",
   "metadata": {},
   "source": [
    "## this analysis can also be done with the $\\chi^2$ test, and the  $\\chi^2$ distribution, \n",
    "## see  [A. Marengo](http://www.csun.edu/~amarenco/Fcs%20682/When%20to%20use%20what%20test.pdf) on how to choose a test and \"Statistics In a Nutshell Chapter 4\", or http://math.hws.edu/javamath/ryan/ChiSquare.html (if you are really just interested in the formula at face value)"
   ]
  },
  {
   "cell_type": "markdown",
   "metadata": {},
   "source": [
    "### The chisq statistics tests the statistics calculated as :\n",
    "\n",
    "$$\\chi^2 = \\Sigma \\frac{(observation - expectation)^2}{expectation}$$\n",
    "\n",
    "### against a chi sq distribution.\n",
    "### If we talk about sample fractions  that is \n",
    "\n",
    "$$\\chi^2 = \\Sigma \\frac{(f_{observed} - f_{expectated})^2}{f_{expected}}$$\n",
    "\n",
    "### turns out this quantity is distributed according to a chi square distribution, so if i get the $\\chi^2$ statistics i can compare it to the full chisq distribution and see how far in the tail it is\n",
    "\n",
    "### The trickiest part (but not that tricky) is to figure out how to construct the table of values. please see Statistics In a Nutshell Chapter 4, for our data for example: Thisis called a CONTINGENCY TABLE"
   ]
  },
  {
   "cell_type": "markdown",
   "metadata": {},
   "source": [
    "|                 |     success         | failure|    |               \n",
    "|-----------------|:-------------------:|:-------------------:|---------------------------|\n",
    "| test sample     | number of successes in test    | number of failures in test    | number members of test sample |\n",
    "| control sample  | number of successes in control | number of failures in control | number members of control sample| \n",
    "|                 | total successes                |  total failures               | number of all members         |\n",
    "\n",
    "|employed in subsadized job |     employed          | not employed     |                   \n",
    "|---------------------------|:---------------------:|------------------|---------------------------|\n",
    "| test sample               | $0.701*564$           | $0.299*564$      | 564                       |\n",
    "| control sample            | $0.035*409$           | $0.965*4.09$     | 409                       |\n",
    "|                           |                       |                  |                           |\n",
    "| total                     | 409.679               |  562.912         | 973                       |"
   ]
  },
  {
   "cell_type": "markdown",
   "metadata": {},
   "source": [
    "# the expected ratio is the product of the total of all rows and all columns, devided by the total"
   ]
  },
  {
   "cell_type": "markdown",
   "metadata": {},
   "source": [
    "# expected = $\\frac{row tot * col tot}{total}$"
   ]
  },
  {
   "cell_type": "code",
   "execution_count": 22,
   "metadata": {
    "collapsed": false,
    "scrolled": true
   },
   "outputs": [
    {
     "name": "stdout",
     "output_type": "stream",
     "text": [
      "433.44352059\n",
      "436.223462575\n"
     ]
    }
   ],
   "source": [
    "chisqstat= lambda N, values, expect_num : ((values[0][0] * values[1][1]\n",
    "                                            -values[0][1] * values[1][0])**2) * N / expect_num\n",
    "Ntot = 973 # a + b + c + d = tot\n",
    "expected_num = 564 * 409 * 409.679 * 562.912\n",
    "sample_values = [[0.701 * 564, 0.299 * 564], [0.0305 * 409, 0.965 * 409]]\n",
    "    \n",
    "print (chisqstat(Ntot, sample_values, expected_num))\n",
    "\n",
    "from evalChisq import evalChisq\n",
    "\n",
    "print evalChisq(sample_values)"
   ]
  },
  {
   "cell_type": "markdown",
   "metadata": {},
   "source": [
    "# This number must be compared to the chi sq distribution. \n",
    "# You must calculate the number of degrees of freedom forthis experiment. \n",
    "# Generally: DOF = Number of observations - number of Independent Variables\n",
    "# so here DOF = 1. Now you can look at the table below and draw conclusions about the rejection of the Null"
   ]
  },
  {
   "cell_type": "code",
   "execution_count": null,
   "metadata": {
    "collapsed": false,
    "scrolled": false
   },
   "outputs": [],
   "source": [
    "Image(\"http://passel.unl.edu/Image/Namuth-CovertDeana956176274/chi-sqaure%20distribution%20table.PNG\")"
   ]
  },
  {
   "cell_type": "markdown",
   "metadata": {},
   "source": [
    "432 is hella larger then 3.84\n",
    "\n",
    "why am i mentioning 3.84?\n",
    "\n",
    "how does the 6mo chi square statistic that you derived compare?\n",
    "\n",
    "please  state what that means in terms of your hypothesis in a markdown cell below!"
   ]
  },
  {
   "cell_type": "markdown",
   "metadata": {},
   "source": [
    "### 3.84 is the critical value corresponding to 1 degree of freedom and alpha = 0.05\n",
    "\n",
    "### 432 (or 433, or 436, depending on method used) is extremely large compared to the critical value, therefore we reject the null hypothesis."
   ]
  },
  {
   "cell_type": "markdown",
   "metadata": {},
   "source": [
    "# !!!!!! TODO FOR YOU!\n",
    "# lets see what the chi sq statistics says about the conviction for fellonies (row 10)"
   ]
  },
  {
   "cell_type": "code",
   "execution_count": 23,
   "metadata": {
    "collapsed": false
   },
   "outputs": [
    {
     "name": "stdout",
     "output_type": "stream",
     "text": [
      "[[56.400000000000006, 507.6], [47.852999999999994, 361.147]]\n",
      "total convicted:  104.253\n",
      "total not convicted:  868.747\n"
     ]
    }
   ],
   "source": [
    "sample_values = [[P_1 * n_1, (1-P_1) * n_1], [P_0 * n_0, (1-P_0) * n_0]]\n",
    "print(sample_values)\n",
    "\n",
    "print \"total convicted: \", sample_values[0][0] + sample_values[1][0]\n",
    "print \"total not convicted: \", str(sample_values[0][1] + sample_values[1][1])"
   ]
  },
  {
   "cell_type": "markdown",
   "metadata": {},
   "source": [
    "## fill in the contingency table below\n",
    "\n",
    "|convicted of a felony     |     convicted   | not convicted   |                   \n",
    "|---------------------------|----------------|------------------|---------------------------|\n",
    "| test sample               | 0.100 * 564    | 0.900 * 564     | 564                       |\n",
    "| control sample            | 0.117 * 409   | 0.883 * 409     | 409                      |\n",
    "|                           |                |                  |                           |\n",
    "| total                     | 104.253       | 868.747          | 973         |"
   ]
  },
  {
   "cell_type": "code",
   "execution_count": 24,
   "metadata": {
    "collapsed": false
   },
   "outputs": [
    {
     "name": "stdout",
     "output_type": "stream",
     "text": [
      "0.716194886647\n"
     ]
    },
    {
     "data": {
      "text/plain": [
       "0.7161948866467035"
      ]
     },
     "execution_count": 24,
     "metadata": {},
     "output_type": "execute_result"
    }
   ],
   "source": [
    "chisqstat = lambda N, values, expect_num : ((values[0][0] * values[1][1]\n",
    "                                            -values[0][1] * values[1][0])**2)/ (expect_num / N)\n",
    "\n",
    "Ntot = 973\n",
    "expected_num = 564 * 409 * 104.253 * 868.747\n",
    "\n",
    "chisqval = chisqstat(Ntot, sample_values, expected_num)\n",
    "print chisqval\n",
    "\n",
    "evalChisq(sample_values)"
   ]
  },
  {
   "cell_type": "markdown",
   "metadata": {
    "collapsed": true
   },
   "source": [
    "### The chi-stat of 0.716 is smaller than the critical value 3.84, therefore we reject the null hypothesis using a p-value of 0.05."
   ]
  },
  {
   "cell_type": "code",
   "execution_count": null,
   "metadata": {
    "collapsed": true
   },
   "outputs": [],
   "source": []
  }
 ],
 "metadata": {
  "kernelspec": {
   "display_name": "PUI2016_Python2",
   "language": "python",
   "name": "pui2016_python2"
  },
  "language_info": {
   "codemirror_mode": {
    "name": "ipython",
    "version": 2
   },
   "file_extension": ".py",
   "mimetype": "text/x-python",
   "name": "python",
   "nbconvert_exporter": "python",
   "pygments_lexer": "ipython2",
   "version": "2.7.12"
  }
 },
 "nbformat": 4,
 "nbformat_minor": 0
}
